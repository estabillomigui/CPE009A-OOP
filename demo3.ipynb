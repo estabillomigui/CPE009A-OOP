{
  "nbformat": 4,
  "nbformat_minor": 0,
  "metadata": {
    "colab": {
      "provenance": [],
      "authorship_tag": "ABX9TyM0dw86kmgKp+BpHGTxfyls",
      "include_colab_link": true
    },
    "kernelspec": {
      "name": "python3",
      "display_name": "Python 3"
    },
    "language_info": {
      "name": "python"
    }
  },
  "cells": [
    {
      "cell_type": "markdown",
      "metadata": {
        "id": "view-in-github",
        "colab_type": "text"
      },
      "source": [
        "<a href=\"https://colab.research.google.com/github/estabillomigui/CPE009A-OOP/blob/main/demo3.ipynb\" target=\"_parent\"><img src=\"https://colab.research.google.com/assets/colab-badge.svg\" alt=\"Open In Colab\"/></a>"
      ]
    },
    {
      "cell_type": "markdown",
      "source": [
        "# if statements"
      ],
      "metadata": {
        "id": "mv9Yctn2Pat0"
      }
    },
    {
      "cell_type": "code",
      "execution_count": 10,
      "metadata": {
        "colab": {
          "base_uri": "https://localhost:8080/"
        },
        "id": "MhnWwXQxIWtk",
        "outputId": "ad3afaf9-71df-41c0-d9cd-beace4447fad"
      },
      "outputs": [
        {
          "output_type": "stream",
          "name": "stdout",
          "text": [
            "b is greater than a\n"
          ]
        }
      ],
      "source": [
        "a=12\n",
        "b=100\n",
        "if b>a:\n",
        "  print(\"b is greater than a\")"
      ]
    },
    {
      "cell_type": "markdown",
      "source": [
        "# elif statements"
      ],
      "metadata": {
        "id": "-P-rRpCiP7uU"
      }
    },
    {
      "cell_type": "code",
      "source": [
        "a=12\n",
        "b=12\n",
        "if b>a:\n",
        "  print(\"b is greater than a\")\n",
        "elif a==b:\n",
        "  print(\"a is equal to b\")"
      ],
      "metadata": {
        "colab": {
          "base_uri": "https://localhost:8080/"
        },
        "id": "5bbDfsBfP-1A",
        "outputId": "e254f470-ed8f-45ba-d65d-ce9f4a0a1a00"
      },
      "execution_count": 9,
      "outputs": [
        {
          "output_type": "stream",
          "name": "stdout",
          "text": [
            "a is equal to b\n"
          ]
        }
      ]
    },
    {
      "cell_type": "markdown",
      "source": [
        "# else statements"
      ],
      "metadata": {
        "id": "hl2E12e4Q8Su"
      }
    },
    {
      "cell_type": "code",
      "source": [
        "a=200\n",
        "b=33\n",
        "if b>a:\n",
        "  print(\"b is greater than a\")\n",
        "elif a==b:\n",
        "  print(\"a is equal to b\")\n",
        "else:\n",
        "  print(\"a is greater than b\")"
      ],
      "metadata": {
        "colab": {
          "base_uri": "https://localhost:8080/"
        },
        "id": "wRGyAYFeQ_LJ",
        "outputId": "568338cd-26e4-431c-e3d9-721bf3695864"
      },
      "execution_count": 11,
      "outputs": [
        {
          "output_type": "stream",
          "name": "stdout",
          "text": [
            "a is greater than b\n"
          ]
        }
      ]
    },
    {
      "cell_type": "markdown",
      "source": [
        "# short hand if statement"
      ],
      "metadata": {
        "id": "8hPEjRPOSeIV"
      }
    },
    {
      "cell_type": "code",
      "source": [
        "a=10\n",
        "b=5\n",
        "if a>b: print(\"a is greater than b\")"
      ],
      "metadata": {
        "colab": {
          "base_uri": "https://localhost:8080/"
        },
        "id": "oFQANTNyShfB",
        "outputId": "ced3cfdc-4bab-429d-b0d9-b7b75147baea"
      },
      "execution_count": 13,
      "outputs": [
        {
          "output_type": "stream",
          "name": "stdout",
          "text": [
            "a is greater than b\n"
          ]
        }
      ]
    },
    {
      "cell_type": "markdown",
      "source": [
        "# short hand else if statement"
      ],
      "metadata": {
        "id": "Vq3wIrSLSx2b"
      }
    },
    {
      "cell_type": "code",
      "source": [
        "a=5\n",
        "b=10\n",
        "print(\"A\") if a>b else print(\"B\")"
      ],
      "metadata": {
        "colab": {
          "base_uri": "https://localhost:8080/"
        },
        "id": "youFB-ZWTS3h",
        "outputId": "0babb69d-0472-4a62-da31-89df1e953a2b"
      },
      "execution_count": 14,
      "outputs": [
        {
          "output_type": "stream",
          "name": "stdout",
          "text": [
            "B\n"
          ]
        }
      ]
    },
    {
      "cell_type": "markdown",
      "source": [
        "# and - both conditions are true"
      ],
      "metadata": {
        "id": "nVbf9hx1UYGX"
      }
    },
    {
      "cell_type": "code",
      "source": [
        "a=200\n",
        "b=33\n",
        "c=500\n",
        "if a>b and c>a:\n",
        "  print(\"both statements are true\")"
      ],
      "metadata": {
        "colab": {
          "base_uri": "https://localhost:8080/"
        },
        "id": "TU5fDD75UeNh",
        "outputId": "45f6181d-4116-4e9f-e578-5cb5f68de442"
      },
      "execution_count": 15,
      "outputs": [
        {
          "output_type": "stream",
          "name": "stdout",
          "text": [
            "both statements are true\n"
          ]
        }
      ]
    },
    {
      "cell_type": "markdown",
      "source": [
        "# or - at least one statement is true"
      ],
      "metadata": {
        "id": "CmKVrRbAUroi"
      }
    },
    {
      "cell_type": "code",
      "source": [
        "a=200\n",
        "b=33\n",
        "c=500\n",
        "if a>b or c<a:\n",
        "  print(\"at least one statement is true\")"
      ],
      "metadata": {
        "colab": {
          "base_uri": "https://localhost:8080/"
        },
        "id": "saEeyVKaUxe0",
        "outputId": "d0e880cd-5ac4-4b1e-bb78-d8e52944df5e"
      },
      "execution_count": 16,
      "outputs": [
        {
          "output_type": "stream",
          "name": "stdout",
          "text": [
            "at least one statement is true\n"
          ]
        }
      ]
    },
    {
      "cell_type": "markdown",
      "source": [
        "# nested if"
      ],
      "metadata": {
        "id": "Rdnc238QVLWh"
      }
    },
    {
      "cell_type": "code",
      "source": [
        "x=41\n",
        "\n",
        "if a>10:\n",
        "  print(\"above 10,\")\n",
        "  if x>20:\n",
        "    print(\"above 20,\")\n",
        "  else:\n",
        "    print(\"but not above 20.\")\n",
        "  if x>30:\n",
        "    print(\"above 30,\")\n",
        "  else:\n",
        "    print(\"but not above 30.\")\n",
        "  if x>30:\n",
        "    print(\"above 40,\")\n",
        "  else:\n",
        "    print(\"but not above 40.\")\n",
        "  if x>50:\n",
        "    print(\"and also above 50!\")\n",
        "  else:\n",
        "    print(\"but not above 50.\")"
      ],
      "metadata": {
        "colab": {
          "base_uri": "https://localhost:8080/"
        },
        "id": "zbaSy7c0VOOk",
        "outputId": "48878da8-93b5-4c49-dea0-38ea1c5b2828"
      },
      "execution_count": 32,
      "outputs": [
        {
          "output_type": "stream",
          "name": "stdout",
          "text": [
            "above 10,\n",
            "above 20,\n",
            "above 30,\n",
            "above 40,\n",
            "and also above 50!\n"
          ]
        }
      ]
    },
    {
      "cell_type": "markdown",
      "source": [
        "# sample 1\n",
        "- Write a program that determines if the input age is qualified to vote or not. The qualifying age is 18 years of and above."
      ],
      "metadata": {
        "id": "2OF5yDNPbQuE"
      }
    },
    {
      "cell_type": "code",
      "source": [
        "print(\"Enter age: \")\n",
        "age=int(input())\n",
        "\n",
        "if age>=18:\n",
        "  print(\"You are qualified to vote!\")\n",
        "else:\n",
        "  print(\"You are not qualified to vote.\")"
      ],
      "metadata": {
        "colab": {
          "base_uri": "https://localhost:8080/"
        },
        "id": "PNbVN0DjbxLU",
        "outputId": "15c87720-51e6-4f25-fdc1-83d97c79b56e"
      },
      "execution_count": 34,
      "outputs": [
        {
          "output_type": "stream",
          "name": "stdout",
          "text": [
            "Enter age: \n",
            "18\n",
            "You are qualified to vote!\n"
          ]
        }
      ]
    },
    {
      "cell_type": "markdown",
      "source": [
        "# sample 2\n",
        "-  Write a program that determines if the input number is POSITIVE, NEGATIVE, or ZERO."
      ],
      "metadata": {
        "id": "JJ_qQySBcwvE"
      }
    },
    {
      "cell_type": "code",
      "source": [
        "print(\"Enter a number: \")\n",
        "num1=int(input())\n",
        "\n",
        "if num1>0:\n",
        "  print(\"The number is positive\")\n",
        "elif num1<0:\n",
        "    print(\"The number is negative\")\n",
        "else:\n",
        "  print(\"The number is zero\")"
      ],
      "metadata": {
        "colab": {
          "base_uri": "https://localhost:8080/"
        },
        "id": "HeLiLiAVcyi9",
        "outputId": "3c127254-6a0b-40bd-ca00-5f2062f01c33"
      },
      "execution_count": 38,
      "outputs": [
        {
          "output_type": "stream",
          "name": "stdout",
          "text": [
            "Enter a number: \n",
            "0\n",
            "The number is zero\n"
          ]
        }
      ]
    },
    {
      "cell_type": "markdown",
      "source": [
        "# sample 3\n",
        "- Write a program to determine if the grades are passed, remedial, or failed."
      ],
      "metadata": {
        "id": "eoZRvK7fdgfT"
      }
    },
    {
      "cell_type": "code",
      "source": [
        "print(\"Enter grade:\")\n",
        "grade=int(input())\n",
        "\n",
        "if grade>=70 and grade<101:\n",
        "  print(\"Passed\")\n",
        "elif grade>=65 and grade<=69:\n",
        "  print(\"Remedial\")\n",
        "elif grade>=0 and grade<=64:\n",
        "  print(\"Failed\")\n",
        "else:\n",
        "  print(\"Please enter valid grade\")"
      ],
      "metadata": {
        "colab": {
          "base_uri": "https://localhost:8080/"
        },
        "id": "2qbrBNIWd3hl",
        "outputId": "4fc9a183-eab1-41e5-d9ba-df153aa89c10"
      },
      "execution_count": 48,
      "outputs": [
        {
          "output_type": "stream",
          "name": "stdout",
          "text": [
            "Enter grade:\n",
            "0\n",
            "Failed\n"
          ]
        }
      ]
    }
  ]
}