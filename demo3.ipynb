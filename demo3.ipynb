{
  "nbformat": 4,
  "nbformat_minor": 0,
  "metadata": {
    "colab": {
      "provenance": [],
      "authorship_tag": "ABX9TyOq9ViUZP6s0lTBZ7G8urga",
      "include_colab_link": true
    },
    "kernelspec": {
      "name": "python3",
      "display_name": "Python 3"
    },
    "language_info": {
      "name": "python"
    }
  },
  "cells": [
    {
      "cell_type": "markdown",
      "metadata": {
        "id": "view-in-github",
        "colab_type": "text"
      },
      "source": [
        "<a href=\"https://colab.research.google.com/github/estabillomigui/CPE009A-OOP/blob/main/demo3.ipynb\" target=\"_parent\"><img src=\"https://colab.research.google.com/assets/colab-badge.svg\" alt=\"Open In Colab\"/></a>"
      ]
    },
    {
      "cell_type": "code",
      "execution_count": 7,
      "metadata": {
        "colab": {
          "base_uri": "https://localhost:8080/"
        },
        "id": "H0buqcEgNAhu",
        "outputId": "ab67d182-444b-4f47-cbb3-5af993e2dc6a"
      },
      "outputs": [
        {
          "output_type": "stream",
          "name": "stdout",
          "text": [
            "18\n",
            "6.0\n",
            "FAILED\n"
          ]
        }
      ],
      "source": [
        "num1=3\n",
        "num2=6\n",
        "num3=9\n",
        "\n",
        "sum=num1+num2+num3\n",
        "ave=sum/3\n",
        "\n",
        "print(sum)\n",
        "print(ave)\n",
        "\n",
        "if ave<50:\n",
        "  print(\"FAILED\")\n",
        "else:\n",
        "  print(\"PASSED\")\n",
        "\n"
      ]
    },
    {
      "cell_type": "code",
      "source": [
        "print(\"Enter your grades\")\n",
        "\n",
        "print(\"Prelim Grades: \")\n",
        "num1=int(input())\n",
        "print(\"Midterm Grades: \")\n",
        "num2=int(input())\n",
        "print(\"Final Grades: \")\n",
        "num3=int(input())\n",
        "\n",
        "sum=num1+num2+num3\n",
        "ave=(sum)/3\n",
        "\n",
        "print(sum)\n",
        "print(ave)\n",
        "\n",
        "if ave<50:\n",
        "  print(\"FAILED\")\n",
        "else:\n",
        "  print(\"PASSED\")\n"
      ],
      "metadata": {
        "colab": {
          "base_uri": "https://localhost:8080/"
        },
        "id": "N_1xPUI2QNos",
        "outputId": "33abe173-61c8-443d-d397-29c26ea81e20"
      },
      "execution_count": null,
      "outputs": [
        {
          "output_type": "stream",
          "name": "stdout",
          "text": [
            "Enter your grades\n",
            "Prelim Grades: \n"
          ]
        }
      ]
    }
  ]
}