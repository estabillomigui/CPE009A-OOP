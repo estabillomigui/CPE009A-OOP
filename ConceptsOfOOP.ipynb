{
  "nbformat": 4,
  "nbformat_minor": 0,
  "metadata": {
    "colab": {
      "provenance": [],
      "authorship_tag": "ABX9TyPv9WZDFFJCek2H3+6EvLkB",
      "include_colab_link": true
    },
    "kernelspec": {
      "name": "python3",
      "display_name": "Python 3"
    },
    "language_info": {
      "name": "python"
    }
  },
  "cells": [
    {
      "cell_type": "markdown",
      "metadata": {
        "id": "view-in-github",
        "colab_type": "text"
      },
      "source": [
        "<a href=\"https://colab.research.google.com/github/estabillomigui/CPE009A-OOP/blob/main/ConceptsOfOOP.ipynb\" target=\"_parent\"><img src=\"https://colab.research.google.com/assets/colab-badge.svg\" alt=\"Open In Colab\"/></a>"
      ]
    },
    {
      "cell_type": "markdown",
      "source": [
        "# What is OOP?\n",
        "\n",
        "- The goal of OOP is to create \"objects\". An object is a collection of variables and funcions that are linked together."
      ],
      "metadata": {
        "id": "lefHwoomkykG"
      }
    },
    {
      "cell_type": "markdown",
      "source": [
        "# Class\n",
        "\n",
        "- A class is a collection of objects."
      ],
      "metadata": {
        "id": "Z5_jZRK-ni_e"
      }
    },
    {
      "cell_type": "code",
      "execution_count": 1,
      "metadata": {
        "colab": {
          "base_uri": "https://localhost:8080/"
        },
        "id": "V97Nqv6thThM",
        "outputId": "de175dae-5b55-43f4-8054-c4bf471b4602"
      },
      "outputs": [
        {
          "output_type": "stream",
          "name": "stdout",
          "text": [
            "<__main__.Car object at 0x7b9d2f0b0f10>\n"
          ]
        }
      ],
      "source": [
        "class Car:\n",
        "  pass\n",
        "\n",
        "obj1=Car()\n",
        "print(obj1)"
      ]
    },
    {
      "cell_type": "code",
      "source": [
        "class Car:\n",
        "\n",
        "  def __init__(self,name,color,mileage):\n",
        "    self.name = name\n",
        "    self.color = color\n",
        "    self.mileage = mileage\n",
        "\n",
        "obj1 = Car(\"BMW\",\"Red\",\"1000\")\n",
        "obj2 = Car(\"Toyota\",\"Blue\",\"1200\")\n",
        "\n",
        "print(obj1.name)\n",
        "print(obj1.color)\n",
        "print(obj1.mileage)\n",
        "\n",
        "print(obj2.mileage)"
      ],
      "metadata": {
        "colab": {
          "base_uri": "https://localhost:8080/"
        },
        "id": "Q14d6gJOjYA-",
        "outputId": "66bccf78-1bea-4ac5-9498-c7b6f0359f31"
      },
      "execution_count": 11,
      "outputs": [
        {
          "output_type": "stream",
          "name": "stdout",
          "text": [
            "BMW\n",
            "Red\n",
            "1000\n",
            "1200\n"
          ]
        }
      ]
    },
    {
      "cell_type": "markdown",
      "source": [
        "# Application 1 - write a program the prints you student information with the following attributes:\n",
        "- Name\n",
        "- Age\n",
        "- Course\n",
        "- Section\n",
        "\n",
        "Use class name student"
      ],
      "metadata": {
        "id": "Qj2fnhLdnsM4"
      }
    },
    {
      "cell_type": "code",
      "source": [
        "class student:\n",
        "\n",
        "  def __init__(self,name,age,course,section):\n",
        "    self.name = name\n",
        "    self.age = age\n",
        "    self.course = course\n",
        "    self.section = section\n",
        "\n",
        "newStudent1 = student(\"Migui Estabillo\",\"19\",\"BSCPE\",\"CPE12S6\")\n",
        "\n",
        "print(newStudent1.name)\n",
        "print(newStudent1.age)\n",
        "print(newStudent1.course)\n",
        "print(newStudent1.section)"
      ],
      "metadata": {
        "colab": {
          "base_uri": "https://localhost:8080/"
        },
        "id": "arydQMj8kPIO",
        "outputId": "7e9ee187-93e1-4a1c-9e7e-f87c5b04cdb7"
      },
      "execution_count": 22,
      "outputs": [
        {
          "output_type": "stream",
          "name": "stdout",
          "text": [
            "Migui Estabillo\n",
            "19\n",
            "BSCPE\n",
            "CPE12S6\n"
          ]
        }
      ]
    }
  ]
}