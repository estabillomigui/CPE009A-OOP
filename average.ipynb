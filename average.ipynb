{
  "nbformat": 4,
  "nbformat_minor": 0,
  "metadata": {
    "colab": {
      "provenance": [],
      "authorship_tag": "ABX9TyO5+ENNxRtumhcBW2M3BujA",
      "include_colab_link": true
    },
    "kernelspec": {
      "name": "python3",
      "display_name": "Python 3"
    },
    "language_info": {
      "name": "python"
    }
  },
  "cells": [
    {
      "cell_type": "markdown",
      "metadata": {
        "id": "view-in-github",
        "colab_type": "text"
      },
      "source": [
        "<a href=\"https://colab.research.google.com/github/estabillomigui/CPE009A-OOP/blob/main/average.ipynb\" target=\"_parent\"><img src=\"https://colab.research.google.com/assets/colab-badge.svg\" alt=\"Open In Colab\"/></a>"
      ]
    },
    {
      "cell_type": "code",
      "execution_count": 5,
      "metadata": {
        "colab": {
          "base_uri": "https://localhost:8080/"
        },
        "id": "H0buqcEgNAhu",
        "outputId": "162b64c4-00f5-46b1-fbd5-d08b6c4dd801"
      },
      "outputs": [
        {
          "output_type": "stream",
          "name": "stdout",
          "text": [
            "6.0\n",
            "FAILED\n"
          ]
        }
      ],
      "source": [
        "num1=3\n",
        "num2=6\n",
        "num3=9\n",
        "sum=num1+num2+num3\n",
        "ave=sum/3\n",
        "print(ave)\n",
        "if ave<50:\n",
        "  print(\"FAILED\")\n",
        "else:\n",
        "  print(\"PASSED\")"
      ]
    }
  ]
}