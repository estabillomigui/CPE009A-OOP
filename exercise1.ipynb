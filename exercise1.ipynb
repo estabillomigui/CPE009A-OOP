{
  "nbformat": 4,
  "nbformat_minor": 0,
  "metadata": {
    "colab": {
      "provenance": [],
      "authorship_tag": "ABX9TyNDWjwqzyMt7qVYCY/M+c/u",
      "include_colab_link": true
    },
    "kernelspec": {
      "name": "python3",
      "display_name": "Python 3"
    },
    "language_info": {
      "name": "python"
    }
  },
  "cells": [
    {
      "cell_type": "markdown",
      "metadata": {
        "id": "view-in-github",
        "colab_type": "text"
      },
      "source": [
        "<a href=\"https://colab.research.google.com/github/estabillomigui/CPE009A-OOP/blob/main/exercise1.ipynb\" target=\"_parent\"><img src=\"https://colab.research.google.com/assets/colab-badge.svg\" alt=\"Open In Colab\"/></a>"
      ]
    },
    {
      "cell_type": "markdown",
      "source": [
        "Algorithm to get perimeter and area of a rectangle\n",
        "1. Get the length of the rectangle\n",
        "2. Get the width of the rectangle\n",
        "3. Add the length and width together\n",
        "5. Multiply the sum by 2 to get the perimeter\n",
        "6. Print the perimeter of the rectangle\n",
        "7. Multiply the length by the width to get the area\n",
        "8. Print the area of the rectangle"
      ],
      "metadata": {
        "id": "IvtZxoLOUPaU"
      }
    },
    {
      "cell_type": "code",
      "source": [
        "print(\"Enter Length:\")\n",
        "length=int(input())\n",
        "print(\"Enter Width:\")\n",
        "width=int(input())\n",
        "\n",
        "perimeter=2*(length+width)\n",
        "area=length*width\n",
        "\n",
        "print(\"Perimeter:\")\n",
        "print(perimeter)\n",
        "print(\"Area:\")\n",
        "print(area)"
      ],
      "metadata": {
        "colab": {
          "base_uri": "https://localhost:8080/"
        },
        "id": "m5CR3XvXV1cx",
        "outputId": "5b438cfe-26a0-4723-b2ec-151b5b269bee"
      },
      "execution_count": 2,
      "outputs": [
        {
          "output_type": "stream",
          "name": "stdout",
          "text": [
            "Enter Length:\n",
            "10\n",
            "Enter Width:\n",
            "5\n",
            "Perimeter:\n",
            "30\n",
            "Area:\n",
            "50\n"
          ]
        }
      ]
    }
  ]
}