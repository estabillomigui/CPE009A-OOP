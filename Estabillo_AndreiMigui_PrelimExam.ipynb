{
  "nbformat": 4,
  "nbformat_minor": 0,
  "metadata": {
    "colab": {
      "provenance": [],
      "authorship_tag": "ABX9TyMKRcu1W3LuZ10CD7Pri9id",
      "include_colab_link": true
    },
    "kernelspec": {
      "name": "python3",
      "display_name": "Python 3"
    },
    "language_info": {
      "name": "python"
    }
  },
  "cells": [
    {
      "cell_type": "markdown",
      "metadata": {
        "id": "view-in-github",
        "colab_type": "text"
      },
      "source": [
        "<a href=\"https://colab.research.google.com/github/estabillomigui/CPE009A-OOP/blob/main/Estabillo_AndreiMigui_PrelimExam.ipynb\" target=\"_parent\"><img src=\"https://colab.research.google.com/assets/colab-badge.svg\" alt=\"Open In Colab\"/></a>"
      ]
    },
    {
      "cell_type": "code",
      "source": [
        "fullName=input(\"Enter you full name: \")\n",
        "age=input(\"Enter you age: \")\n",
        "print(\"Full Name and Age: \"+fullName+\" \"+\"and\"+\" \"+age)"
      ],
      "metadata": {
        "colab": {
          "base_uri": "https://localhost:8080/"
        },
        "id": "VMFeD4QsoL3u",
        "outputId": "e0c0b37f-f570-4342-8122-e3162130b659"
      },
      "execution_count": 17,
      "outputs": [
        {
          "output_type": "stream",
          "name": "stdout",
          "text": [
            "Enter you full name: Andrei Migui E. Estabillo\n",
            "Enter you age: 19\n",
            "Full Name and Age: Andrei Migui E. Estabillo and 19\n"
          ]
        }
      ]
    }
  ]
}