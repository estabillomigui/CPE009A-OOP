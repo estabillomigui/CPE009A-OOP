{
  "nbformat": 4,
  "nbformat_minor": 0,
  "metadata": {
    "colab": {
      "provenance": [],
      "authorship_tag": "ABX9TyMeDA+nki3Lq65TsdOj2u//",
      "include_colab_link": true
    },
    "kernelspec": {
      "name": "python3",
      "display_name": "Python 3"
    },
    "language_info": {
      "name": "python"
    }
  },
  "cells": [
    {
      "cell_type": "markdown",
      "metadata": {
        "id": "view-in-github",
        "colab_type": "text"
      },
      "source": [
        "<a href=\"https://colab.research.google.com/github/estabillomigui/CPE009A-OOP/blob/main/demo1.ipynb\" target=\"_parent\"><img src=\"https://colab.research.google.com/assets/colab-badge.svg\" alt=\"Open In Colab\"/></a>"
      ]
    },
    {
      "cell_type": "markdown",
      "source": [
        "#python indentation"
      ],
      "metadata": {
        "id": "E7yhHgk8KX8E"
      }
    },
    {
      "cell_type": "code",
      "source": [
        "if 5>2:\n",
        "    print(\"5 is greater than 2\")"
      ],
      "metadata": {
        "colab": {
          "base_uri": "https://localhost:8080/"
        },
        "id": "F_9d91GPLoMr",
        "outputId": "77dced36-d918-4cfc-957a-8e46128db9f6"
      },
      "execution_count": null,
      "outputs": [
        {
          "output_type": "stream",
          "name": "stdout",
          "text": [
            "5 is greater than 2\n"
          ]
        }
      ]
    },
    {
      "cell_type": "markdown",
      "source": [
        "# python comments"
      ],
      "metadata": {
        "id": "QKe-WZyVKccb"
      }
    },
    {
      "cell_type": "code",
      "source": [
        "#comment\n",
        "print(\"hello world\")\n"
      ],
      "metadata": {
        "id": "u9D8C2SnKf4k"
      },
      "execution_count": null,
      "outputs": []
    },
    {
      "cell_type": "markdown",
      "source": [
        "#python variable"
      ],
      "metadata": {
        "id": "zdYwXYkWMd3K"
      }
    },
    {
      "cell_type": "code",
      "source": [
        "#single variable with a value\n",
        "x=1\n",
        "#multiple variables with multiple values\n",
        "a,b,c=0,-1,2\n",
        "\n",
        "print(a)\n",
        "print(b)\n",
        "print(c)\n",
        "print(x)\n",
        "\n",
        "b=\"Sally\"\n",
        "\n",
        "print(b)"
      ],
      "metadata": {
        "colab": {
          "base_uri": "https://localhost:8080/"
        },
        "id": "xCSAAbxTMy96",
        "outputId": "2e0fb171-8a85-4ed3-9c0c-b09659a87f28"
      },
      "execution_count": null,
      "outputs": [
        {
          "output_type": "stream",
          "name": "stdout",
          "text": [
            "0\n",
            "-1\n",
            "2\n",
            "1\n",
            "Sally\n"
          ]
        }
      ]
    },
    {
      "cell_type": "markdown",
      "source": [
        "#python casting"
      ],
      "metadata": {
        "id": "eKu_arHANv6M"
      }
    },
    {
      "cell_type": "code",
      "source": [
        "b=\"Sally\"\n",
        "b=int(4)\n",
        "print(b)\n",
        "\n",
        "b=float(4)\n",
        "print(b)"
      ],
      "metadata": {
        "colab": {
          "base_uri": "https://localhost:8080/"
        },
        "id": "sBwo-mwoNyVE",
        "outputId": "68841ccd-8676-4ba1-81c3-80dbecfe2aa3"
      },
      "execution_count": null,
      "outputs": [
        {
          "output_type": "stream",
          "name": "stdout",
          "text": [
            "4\n",
            "4.0\n"
          ]
        }
      ]
    },
    {
      "cell_type": "markdown",
      "source": [
        "#type() function"
      ],
      "metadata": {
        "id": "ulNOk44GPc0Z"
      }
    },
    {
      "cell_type": "code",
      "source": [
        "x=5\n",
        "y=\"John\"\n",
        "print(type(x))\n",
        "print(type(y))"
      ],
      "metadata": {
        "colab": {
          "base_uri": "https://localhost:8080/"
        },
        "id": "eHzNgYopPgKa",
        "outputId": "01db641c-54df-4410-899c-4d1448e5a265"
      },
      "execution_count": null,
      "outputs": [
        {
          "output_type": "stream",
          "name": "stdout",
          "text": [
            "<class 'int'>\n",
            "<class 'str'>\n"
          ]
        }
      ]
    },
    {
      "cell_type": "markdown",
      "source": [
        "#single or double quote"
      ],
      "metadata": {
        "id": "Htyky0gXP1yx"
      }
    },
    {
      "cell_type": "code",
      "source": [
        "y='John'\n",
        "print(y)\n",
        "\n",
        "y=\"john\"\n",
        "print(y)"
      ],
      "metadata": {
        "colab": {
          "base_uri": "https://localhost:8080/"
        },
        "id": "MIJL-dBdP44S",
        "outputId": "a2494802-4adb-49d9-9d16-33ab3652d8ab"
      },
      "execution_count": null,
      "outputs": [
        {
          "output_type": "stream",
          "name": "stdout",
          "text": [
            "John\n",
            "john\n"
          ]
        }
      ]
    },
    {
      "cell_type": "markdown",
      "source": [
        "#multiple variables"
      ],
      "metadata": {
        "id": "tNKv5TqcQl7p"
      }
    },
    {
      "cell_type": "code",
      "source": [
        "x,y,z=\"one\",\"two\",\"three\"\n",
        "print(x)\n",
        "print(y)\n",
        "print(z)"
      ],
      "metadata": {
        "colab": {
          "base_uri": "https://localhost:8080/"
        },
        "id": "ptgSn_U5Qr5q",
        "outputId": "f900b86e-f988-4ec9-b608-e7dcd9d16e3a"
      },
      "execution_count": null,
      "outputs": [
        {
          "output_type": "stream",
          "name": "stdout",
          "text": [
            "one\n",
            "two\n",
            "three\n"
          ]
        }
      ]
    },
    {
      "cell_type": "markdown",
      "source": [
        "#one value to multiple variables"
      ],
      "metadata": {
        "id": "Lq0FBxuRRK2K"
      }
    },
    {
      "cell_type": "code",
      "source": [
        "x=y=z=\"four\"\n",
        "\n",
        "print(x)\n",
        "print(y)\n",
        "print(z)"
      ],
      "metadata": {
        "colab": {
          "base_uri": "https://localhost:8080/"
        },
        "id": "5X76F5oJRTur",
        "outputId": "84fb5b6d-c8e1-4c1d-b79a-66bb247a1617"
      },
      "execution_count": null,
      "outputs": [
        {
          "output_type": "stream",
          "name": "stdout",
          "text": [
            "four\n",
            "four\n",
            "four\n"
          ]
        }
      ]
    },
    {
      "cell_type": "markdown",
      "source": [
        "#output variable"
      ],
      "metadata": {
        "id": "dBEJMmycRxta"
      }
    },
    {
      "cell_type": "code",
      "source": [
        "x=\"enjoyable\"\n",
        "print(\"python programming is \"+ x)"
      ],
      "metadata": {
        "colab": {
          "base_uri": "https://localhost:8080/"
        },
        "id": "b6ByzFgQR1M5",
        "outputId": "30e0087a-656a-4969-83e7-940146cdf255"
      },
      "execution_count": null,
      "outputs": [
        {
          "output_type": "stream",
          "name": "stdout",
          "text": [
            "python programming is enjoyable\n"
          ]
        }
      ]
    }
  ]
}