{
  "nbformat": 4,
  "nbformat_minor": 0,
  "metadata": {
    "colab": {
      "provenance": [],
      "toc_visible": true,
      "authorship_tag": "ABX9TyN7qKBLIk5pgQ94giJDXmZq",
      "include_colab_link": true
    },
    "kernelspec": {
      "name": "python3",
      "display_name": "Python 3"
    },
    "language_info": {
      "name": "python"
    }
  },
  "cells": [
    {
      "cell_type": "markdown",
      "metadata": {
        "id": "view-in-github",
        "colab_type": "text"
      },
      "source": [
        "<a href=\"https://colab.research.google.com/github/estabillomigui/CPE009A-OOP/blob/main/ConceptsOfOOP2.ipynb\" target=\"_parent\"><img src=\"https://colab.research.google.com/assets/colab-badge.svg\" alt=\"Open In Colab\"/></a>"
      ]
    },
    {
      "cell_type": "markdown",
      "source": [
        "# inheritance, encapsulation, and creating multiple object names"
      ],
      "metadata": {
        "id": "DAj6xY8smq95"
      }
    },
    {
      "cell_type": "code",
      "source": [
        "class regularPolygon: #creates the superclass name regularPolygon\n",
        "  def __init__(self,side):\n",
        "    self.side = side\n",
        "\n",
        "class square(regularPolygon): #inherits the properties of superclass regularPolygon\n",
        "  def area(self): #defines the method/function to get the area of a square\n",
        "    return self.side * self.side\n",
        "\n",
        "class equilateralTriangle(regularPolygon):\n",
        "  def area(self): #defines the method/function to get the area of a equilateral triangle\n",
        "    return self.side * self.side * 0.433\n",
        "\n",
        "square = square(4) #creates an object name square\n",
        "print(square.area()) #print the instance of the attribute of square class\n",
        "\n",
        "equilTriangle = equilateralTriangle(4) #creates an object name quilTriangle\n",
        "print(equilTriangle.area()) #print the instance of the attribute of equilateralTriangle"
      ],
      "metadata": {
        "colab": {
          "base_uri": "https://localhost:8080/"
        },
        "id": "WlZBwMYBm1Aj",
        "outputId": "d24ae1b5-2d97-4e0e-d623-481a82dbdf42"
      },
      "execution_count": 7,
      "outputs": [
        {
          "output_type": "stream",
          "name": "stdout",
          "text": [
            "16\n",
            "6.928\n"
          ]
        }
      ]
    },
    {
      "cell_type": "code",
      "source": [
        "class regularPolygon: #creates the superclass name regularPolygon\n",
        "  def __init__(self,side):\n",
        "    self.side = side\n",
        "\n",
        "  def area(self): #defines the method/function to get the area of a square\n",
        "    print(self.side * self.side)\n",
        "\n",
        "class square(regularPolygon): #inherits the properties of superclass regularPolygon\n",
        "  pass\n",
        "\n",
        "square = square(4)\n",
        "square.area()"
      ],
      "metadata": {
        "colab": {
          "base_uri": "https://localhost:8080/"
        },
        "id": "eMwRW5IUs7Wg",
        "outputId": "b35dc55d-c93a-4a8b-bc42-ed0458ad9d36"
      },
      "execution_count": 9,
      "outputs": [
        {
          "output_type": "stream",
          "name": "stdout",
          "text": [
            "16\n"
          ]
        }
      ]
    }
  ]
}