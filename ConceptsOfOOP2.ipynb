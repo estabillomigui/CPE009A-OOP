{
  "nbformat": 4,
  "nbformat_minor": 0,
  "metadata": {
    "colab": {
      "provenance": [],
      "authorship_tag": "ABX9TyMXSZ870bP2OfXAELtBFZjK",
      "include_colab_link": true
    },
    "kernelspec": {
      "name": "python3",
      "display_name": "Python 3"
    },
    "language_info": {
      "name": "python"
    }
  },
  "cells": [
    {
      "cell_type": "markdown",
      "metadata": {
        "id": "view-in-github",
        "colab_type": "text"
      },
      "source": [
        "<a href=\"https://colab.research.google.com/github/estabillomigui/CPE009A-OOP/blob/main/ConceptsOfOOP2.ipynb\" target=\"_parent\"><img src=\"https://colab.research.google.com/assets/colab-badge.svg\" alt=\"Open In Colab\"/></a>"
      ]
    },
    {
      "cell_type": "markdown",
      "source": [
        "# inheritance, encapsulation, and creating multiple object names"
      ],
      "metadata": {
        "id": "DAj6xY8smq95"
      }
    },
    {
      "cell_type": "code",
      "source": [
        "class regularPolygon: #creates the superclass name regularPolygon\n",
        "  def __init__(self,side):\n",
        "    self.side = side\n",
        "\n",
        "class square(regularPolygon): #inherits the properties of superclass regularPolygon\n",
        "  def area(self): #defines the method/function to get the area of a square\n",
        "    return self.side * self.side\n",
        "\n",
        "class equilateralTriangle(regularPolygon):\n",
        "  def area(self): #defines the method/function to get the area of a equilateral triangle\n",
        "    return self.side * self.side * 0.433\n",
        "\n",
        "square = square(4) #creates an object name square\n",
        "print(square.area()) #print the instance of the attribute of square class\n",
        "\n",
        "equilTriangle = equilateralTriangle(4) #creates an object name quilTriangle\n",
        "print(equilTriangle.area()) #print the instance of the attribute of equilateralTriangle"
      ],
      "metadata": {
        "colab": {
          "base_uri": "https://localhost:8080/"
        },
        "id": "WlZBwMYBm1Aj",
        "outputId": "d24ae1b5-2d97-4e0e-d623-481a82dbdf42"
      },
      "execution_count": null,
      "outputs": [
        {
          "output_type": "stream",
          "name": "stdout",
          "text": [
            "16\n",
            "6.928\n"
          ]
        }
      ]
    },
    {
      "cell_type": "code",
      "source": [
        "class regularPolygon: #creates the superclass name regularPolygon\n",
        "  def __init__(self,side):\n",
        "    self.side = side\n",
        "\n",
        "  def area(self): #defines the method/function to get the area of a square\n",
        "    print(self.side * self.side)\n",
        "\n",
        "class square(regularPolygon): #inherits the properties of superclass regularPolygon\n",
        "  pass\n",
        "\n",
        "square = square(4)\n",
        "square.area()"
      ],
      "metadata": {
        "colab": {
          "base_uri": "https://localhost:8080/"
        },
        "id": "eMwRW5IUs7Wg",
        "outputId": "b35dc55d-c93a-4a8b-bc42-ed0458ad9d36"
      },
      "execution_count": null,
      "outputs": [
        {
          "output_type": "stream",
          "name": "stdout",
          "text": [
            "16\n"
          ]
        }
      ]
    },
    {
      "cell_type": "markdown",
      "source": [
        "# application 1\n",
        "1. Create a python program that displays the name of three students and there term grades\n",
        "2. Create a class name Person and attributes (std1, std2, std3, pre, mid, fin)\n",
        "3. Compute the average of each term grade using Grade() method\n",
        "4. Information about student's grades must be hidden from others"
      ],
      "metadata": {
        "id": "bNMdJ33jui-1"
      }
    },
    {
      "cell_type": "code",
      "source": [
        "class Person:\n",
        "  def __init__(self, std, pre, mid, fin):\n",
        "    self.__std = std\n",
        "    self.__pre = pre\n",
        "    self.__mid = mid\n",
        "    self.__fin = fin\n",
        "\n",
        "  def __calcuAverage(self, grades):\n",
        "    return sum(grades)/len(grades)\n",
        "\n",
        "  def displayGrades(self):\n",
        "    print(\"Name: \", self.__std)\n",
        "    print(\"Prelim Grades: \", self.__pre)\n",
        "    print(\"Midterm Grades: \", self.__mid)\n",
        "    print(\"Finals Grades: \", self.__fin)\n",
        "\n",
        "  def grade(self):\n",
        "    preAve = self.__calcuAverage(self.__pre)\n",
        "    midAve = self.__calcuAverage(self.__mid)\n",
        "    finAve = self.__calcuAverage(self.__fin)\n",
        "\n",
        "    print(\"Prelim average grade: \", preAve)\n",
        "    print(\"Midterm average grade: \", midAve)\n",
        "    print(\"Finals average grade: \", finAve)\n",
        "\n",
        "student1 = Person(\"Student 1\", [79, 81, 83], [84, 80, 77], [76, 88, 90])\n",
        "student2 = Person(\"Student 2\", [82, 89, 86], [81, 79, 83], [75, 83, 87])\n",
        "student3 = Person(\"Student 3\", [80, 83, 82], [79, 82, 86], [79, 80, 84])\n",
        "\n",
        "student1.displayGrades()\n",
        "print()\n",
        "student2.displayGrades()\n",
        "print()\n",
        "student3.displayGrades()\n",
        "print()\n",
        "\n",
        "print(\"Student 1 grades: \")\n",
        "student1.grade()\n",
        "print()\n",
        "print(\"Student 2 grades: \")\n",
        "student2.grade()\n",
        "print()\n",
        "print(\"Student 3 grades: \")\n",
        "student3.grade()\n",
        "print()"
      ],
      "metadata": {
        "id": "2t68NwrLvFW6",
        "colab": {
          "base_uri": "https://localhost:8080/"
        },
        "outputId": "e75d5e44-db11-4afb-bd27-2e8acb0b93d6"
      },
      "execution_count": null,
      "outputs": [
        {
          "output_type": "stream",
          "name": "stdout",
          "text": [
            "Name:  Student 1\n",
            "Prelim Grades:  [79, 81, 83]\n",
            "Midterm Grades:  [84, 80, 77]\n",
            "Finals Grades:  [76, 88, 90]\n",
            "\n",
            "Name:  Student 2\n",
            "Prelim Grades:  [82, 89, 86]\n",
            "Midterm Grades:  [81, 79, 83]\n",
            "Finals Grades:  [75, 83, 87]\n",
            "\n",
            "Name:  Student 3\n",
            "Prelim Grades:  [80, 83, 82]\n",
            "Midterm Grades:  [79, 82, 86]\n",
            "Finals Grades:  [79, 80, 84]\n",
            "\n",
            "Student 1 grades: \n",
            "Prelim average grade:  81.0\n",
            "Midterm average grade:  80.33333333333333\n",
            "Finals average grade:  84.66666666666667\n",
            "\n",
            "Student 2 grades: \n",
            "Prelim average grade:  85.66666666666667\n",
            "Midterm average grade:  81.0\n",
            "Finals average grade:  81.66666666666667\n",
            "\n",
            "Student 3 grades: \n",
            "Prelim average grade:  81.66666666666667\n",
            "Midterm average grade:  82.33333333333333\n",
            "Finals average grade:  81.0\n",
            "\n"
          ]
        }
      ]
    }
  ]
}