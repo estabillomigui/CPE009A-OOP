{
  "nbformat": 4,
  "nbformat_minor": 0,
  "metadata": {
    "colab": {
      "provenance": [],
      "authorship_tag": "ABX9TyMIpVZnjYoehjhb5HCB4rzY",
      "include_colab_link": true
    },
    "kernelspec": {
      "name": "python3",
      "display_name": "Python 3"
    },
    "language_info": {
      "name": "python"
    }
  },
  "cells": [
    {
      "cell_type": "markdown",
      "metadata": {
        "id": "view-in-github",
        "colab_type": "text"
      },
      "source": [
        "<a href=\"https://colab.research.google.com/github/estabillomigui/CPE009A-OOP/blob/main/OOP_Concepts_2.ipynb\" target=\"_parent\"><img src=\"https://colab.research.google.com/assets/colab-badge.svg\" alt=\"Open In Colab\"/></a>"
      ]
    },
    {
      "cell_type": "code",
      "execution_count": 8,
      "metadata": {
        "colab": {
          "base_uri": "https://localhost:8080/"
        },
        "id": "snQtXf2EpUxn",
        "outputId": "db86dc06-c850-49f2-c61f-27859b8c3b02"
      },
      "outputs": [
        {
          "output_type": "stream",
          "name": "stdout",
          "text": [
            "A Circle has 0 sides!\n",
            "A Trianble has 3 sides!\n",
            "A Square has 4 sides!\n",
            "A Pentagon has 5 sides!\n",
            "A Hexagon has 6 sides!\n"
          ]
        }
      ],
      "source": [
        "class Shapes:\n",
        "  def __init__(self,name,sides):\n",
        "    self.__name = name\n",
        "    self.__sides = sides\n",
        "\n",
        "  def numberOfSides(self):\n",
        "    print(f\"A {self.__name} has {self.__sides} sides!\")\n",
        "\n",
        "class shape1(Shapes):\n",
        "  pass\n",
        "class shape2(Shapes):\n",
        "  pass\n",
        "class shape3(Shapes):\n",
        "  pass\n",
        "class shape4(Shapes):\n",
        "  pass\n",
        "class shape5(Shapes):\n",
        "  pass\n",
        "\n",
        "shape1 = shape1(\"Circle\",0)\n",
        "shape2 = shape2(\"Trianble\",3)\n",
        "shape3 = shape3(\"Square\",4)\n",
        "shape4 = shape4(\"Pentagon\",5)\n",
        "shape5 = shape5(\"Hexagon\",6)\n",
        "\n",
        "shape1.numberOfSides()\n",
        "shape2.numberOfSides()\n",
        "shape3.numberOfSides()\n",
        "shape4.numberOfSides()\n",
        "shape5.numberOfSides()"
      ]
    }
  ]
}